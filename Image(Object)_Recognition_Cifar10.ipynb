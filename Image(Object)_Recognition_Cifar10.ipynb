{
  "nbformat": 4,
  "nbformat_minor": 0,
  "metadata": {
    "colab": {
      "name": "Image(Object) Recognition_Cifar10.ipynb",
      "provenance": [],
      "collapsed_sections": [],
      "authorship_tag": "ABX9TyPCgT99uWksBL6EdLk+UfVz",
      "include_colab_link": true
    },
    "kernelspec": {
      "name": "python3",
      "display_name": "Python 3"
    },
    "accelerator": "GPU"
  },
  "cells": [
    {
      "cell_type": "markdown",
      "metadata": {
        "id": "view-in-github",
        "colab_type": "text"
      },
      "source": [
        "<a href=\"https://colab.research.google.com/github/Chel-Ash/channel-ai/blob/master/Image(Object)_Recognition_Cifar10.ipynb\" target=\"_parent\"><img src=\"https://colab.research.google.com/assets/colab-badge.svg\" alt=\"Open In Colab\"/></a>"
      ]
    },
    {
      "cell_type": "markdown",
      "metadata": {
        "id": "RSB1RsRuyTM7",
        "colab_type": "text"
      },
      "source": [
        "# Simple Object Recognition Model Built Using Cifar10 dataset\n",
        "This notebook is a simple project that involves building a ML model that can carry out object recognition. The dataset used here is the \"cifar10\" dataset for building object recognition models. This dataset consists of 10 classes making up the possible classes that objects in images can be sorted into.\n",
        "\n",
        "\n",
        "My aim is to build a web application that uses the complete trained model as a back-end. This web app would perform object recognition on images when a user uploads a given image and it would then using probability, pass through the most likely class the object in that image belongs to.\n",
        "\n",
        "Note: This is a follow-up tutorial from an article on medium, to access this content simply use the link [here](https://medium.com/intuitive-deep-learning/build-your-first-convolutional-neural-network-to-recognize-images-84b9c78fe0ce) Lets begin!"
      ]
    },
    {
      "cell_type": "markdown",
      "metadata": {
        "id": "8sW8Y2dB0Yil",
        "colab_type": "text"
      },
      "source": [
        "#           Import backend keras along with the dataset cifar10 for object recognition\n",
        "1.Use the following lines below to import keras along with cifar10\n",
        "2.Store the data in the respective arrays to be used for training\n",
        "\n",
        "After those simple steps are completed, we can use the print function to see the shape of our training images \n"
      ]
    },
    {
      "cell_type": "code",
      "metadata": {
        "id": "oUHRvX7qxQwQ",
        "colab_type": "code",
        "colab": {
          "base_uri": "https://localhost:8080/",
          "height": 84
        },
        "outputId": "f0041e08-9b7b-4411-d8b7-f70f9ea546f1"
      },
      "source": [
        "from keras.datasets import cifar10\n",
        "(x_train, y_train), (x_test, y_test) = cifar10.load_data()\n",
        "print('x_train shape:', x_train.shape)\n",
        "print('y_train shape:', y_train.shape)"
      ],
      "execution_count": 2,
      "outputs": [
        {
          "output_type": "stream",
          "text": [
            "Downloading data from https://www.cs.toronto.edu/~kriz/cifar-10-python.tar.gz\n",
            "170500096/170498071 [==============================] - 3s 0us/step\n",
            "x_train shape: (50000, 32, 32, 3)\n",
            "y_train shape: (50000, 1)\n"
          ],
          "name": "stdout"
        }
      ]
    },
    {
      "cell_type": "markdown",
      "metadata": {
        "id": "ZZrICEZk15WS",
        "colab_type": "text"
      },
      "source": [
        "By running that piece of code,, we get the following output above. The shape of x_train printed out is (50000, 32, 32, 3). In simple words, the shape of our array tells us that our x_train consists of:\n",
        "\n",
        "1.   50000 images (training data)\n",
        "2.   32 pixels in height (images)\n",
        "3.   32 pixels in width\n",
        "4.   3 pixels in depth (RGB values of image)\n",
        "\n",
        "For our label training data y, we get the shape output as (50000, 1). This tells us we have 50000 label data in our training set with just one value\n",
        "\n",
        "That is the shape of our training data but keras stacks them in a 4D format, for easier processing when building our model.\n",
        "Now let's try to see a full example of an image and lable to better understand the logic. The code below helps us to that."
      ]
    },
    {
      "cell_type": "code",
      "metadata": {
        "id": "WHX9mqp14AX1",
        "colab_type": "code",
        "colab": {
          "base_uri": "https://localhost:8080/",
          "height": 840
        },
        "outputId": "9411b477-10b8-4d41-c739-f99cef4d641d"
      },
      "source": [
        "print(x_train[0])"
      ],
      "execution_count": 3,
      "outputs": [
        {
          "output_type": "stream",
          "text": [
            "[[[ 59  62  63]\n",
            "  [ 43  46  45]\n",
            "  [ 50  48  43]\n",
            "  ...\n",
            "  [158 132 108]\n",
            "  [152 125 102]\n",
            "  [148 124 103]]\n",
            "\n",
            " [[ 16  20  20]\n",
            "  [  0   0   0]\n",
            "  [ 18   8   0]\n",
            "  ...\n",
            "  [123  88  55]\n",
            "  [119  83  50]\n",
            "  [122  87  57]]\n",
            "\n",
            " [[ 25  24  21]\n",
            "  [ 16   7   0]\n",
            "  [ 49  27   8]\n",
            "  ...\n",
            "  [118  84  50]\n",
            "  [120  84  50]\n",
            "  [109  73  42]]\n",
            "\n",
            " ...\n",
            "\n",
            " [[208 170  96]\n",
            "  [201 153  34]\n",
            "  [198 161  26]\n",
            "  ...\n",
            "  [160 133  70]\n",
            "  [ 56  31   7]\n",
            "  [ 53  34  20]]\n",
            "\n",
            " [[180 139  96]\n",
            "  [173 123  42]\n",
            "  [186 144  30]\n",
            "  ...\n",
            "  [184 148  94]\n",
            "  [ 97  62  34]\n",
            "  [ 83  53  34]]\n",
            "\n",
            " [[177 144 116]\n",
            "  [168 129  94]\n",
            "  [179 142  87]\n",
            "  ...\n",
            "  [216 184 140]\n",
            "  [151 118  84]\n",
            "  [123  92  72]]]\n"
          ],
          "name": "stdout"
        }
      ]
    },
    {
      "cell_type": "markdown",
      "metadata": {
        "id": "DhDxICPD5jkg",
        "colab_type": "text"
      },
      "source": [
        "Trying to visualize the image this way doesn't help us a lot, although that's how it is interpreted for the computer. We can use the matplotlib package for a finer, data plot. Let's import the package in the next lines of code\n",
        "Note: imshow is a function that maps the numbered pixel values of x_train[0] like we saw previously, into the actual image it represents.We also print out the label, that is, the class this image belongs to of the 10 classes we have. Classes begin from index 0."
      ]
    },
    {
      "cell_type": "code",
      "metadata": {
        "id": "w8n8_KZW6Ek3",
        "colab_type": "code",
        "colab": {
          "base_uri": "https://localhost:8080/",
          "height": 283
        },
        "outputId": "9f68a289-f23b-41a8-dffe-54635fd868c1"
      },
      "source": [
        "import matplotlib.pyplot as plt\n",
        "img = plt.imshow(x_train[1])\n",
        "\n",
        "print('The label is:', y_train[1])"
      ],
      "execution_count": 4,
      "outputs": [
        {
          "output_type": "stream",
          "text": [
            "The label is: [9]\n"
          ],
          "name": "stdout"
        },
        {
          "output_type": "display_data",
          "data": {
            "image/png": "[encoded data removed]",
            "text/plain": [
              "<Figure size 432x288 with 1 Axes>"
            ]
          },
          "metadata": {
            "tags": [],
            "needs_background": "light"
          }
        }
      ]
    },
    {
      "cell_type": "markdown",
      "metadata": {
        "id": "ABrjF3zf7qIi",
        "colab_type": "text"
      },
      "source": [
        "With the label showing as six, we still do not know the class in words representing this image. The below image shows the conversion of numbers to the word class. Change the value of the printed label, and tr to see if you can find similarities according to the class the number value belongs to. \n",
        "\n",
        "\n",
        "\n",
        "\n",
        "---\n",
        "\n",
        "> ![number_to_word_class_cifar10](https://miro.medium.com/max/628/1*E7N3oVdqc-QUwd9_T0i9SQ.png)\n",
        "\n",
        "\n"
      ]
    },
    {
      "cell_type": "markdown",
      "metadata": {
        "id": "Pj1CuKgx-IJE",
        "colab_type": "text"
      },
      "source": [
        "## Data Pre-processing\n",
        "In this step we want to preprocess our data because our labels as class number are not very helpful. We can hot-encode our label so that the model returns 1 for matched class and 0 for the rest unmatched classes(i.e 9). For a simple logistic predictor, we would not need to perform this pre processing step mainly because our classes are just two. Class 0 and class 1.\n",
        "\n",
        "For example, building a model that predicts if a student is given admission(1) or not given(0) by training on past data X(scores on tests) and y(admission decision). In this case, we have only two possible classes and can continue without the need for data procesing. \n",
        "\n",
        "This processing step is called *one-hot encoding*. It involves converting the labels into a set of 10 numbers where each number represents if the image belongs to that class or not. So if an image belongs to the first class, the first number of this set will be a 1 and all other numbers in this set will be a 0. The conversion table would look like:\n",
        "\n",
        "\n",
        "\n",
        "\n",
        "> ![alt text](https://miro.medium.com/max/1130/1*t-ttNgcua-JtTlLjdRScww.png)\n",
        "\n",
        "Lets write the code in Keras for that:\n",
        "\n",
        "\n",
        "\n"
      ]
    },
    {
      "cell_type": "code",
      "metadata": {
        "id": "QMm1V2UuB5nz",
        "colab_type": "code",
        "colab": {
          "base_uri": "https://localhost:8080/",
          "height": 34
        },
        "outputId": "c10a71b8-1e5b-4cef-edcb-5adc8f273a90"
      },
      "source": [
        "import keras\n",
        "y_train_one_hot = keras.utils.to_categorical(y_train, 10)\n",
        "y_test_one_hot = keras.utils.to_categorical(y_test, 10)\n",
        "\n",
        "print('The one hot label is:', y_train_one_hot[1])"
      ],
      "execution_count": 5,
      "outputs": [
        {
          "output_type": "stream",
          "text": [
            "The one hot label is: [0. 0. 0. 0. 0. 0. 0. 0. 0. 1.]\n"
          ],
          "name": "stdout"
        }
      ]
    },
    {
      "cell_type": "markdown",
      "metadata": {
        "id": "LDip67U3CgYK",
        "colab_type": "text"
      },
      "source": [
        "In the above code, the line **y_train_one_hot = keras.utils.to_categorical(y_train, 10)** means that we want to take the array conatining the number labels of *y_train* and convert it to one-hot setting *y_train_one_hot*. The numeber 10 is a required paarmeter, it specifies the number of classes there are.\n",
        "\n",
        "We printed out the label of our second image(index 1/truck/label 9) and got the *one-hot setting* as above.\n",
        "\n",
        "# Processing images(x)\n",
        "To process our images , what we do is reduce the pixels values between 0 and 1 which would aid in training our neural network. The pixel values of x ranges between 0 - 255, to reduce them we can divide b 255. We first covert the datatype to *float32* which is a datatype that can store decimal values. Let's write code for this."
      ]
    },
    {
      "cell_type": "code",
      "metadata": {
        "id": "8YhyxXNJFJXa",
        "colab_type": "code",
        "colab": {
          "base_uri": "https://localhost:8080/",
          "height": 840
        },
        "outputId": "64184be2-027b-4020-9d69-45eee5c2ef85"
      },
      "source": [
        "x_train = x_train.astype('float32')\n",
        "x_test = x_test.astype('float32')\n",
        "\n",
        "x_train = x_train / 255\n",
        "x_test = x_test / 255\n",
        "\n",
        "x_train[0]"
      ],
      "execution_count": 6,
      "outputs": [
        {
          "output_type": "execute_result",
          "data": {
            "text/plain": [
              "array([[[0.23137255, 0.24313726, 0.24705882],\n",
              "        [0.16862746, 0.18039216, 0.1764706 ],\n",
              "        [0.19607843, 0.1882353 , 0.16862746],\n",
              "        ...,\n",
              "        [0.61960787, 0.5176471 , 0.42352942],\n",
              "        [0.59607846, 0.49019608, 0.4       ],\n",
              "        [0.5803922 , 0.4862745 , 0.40392157]],\n",
              "\n",
              "       [[0.0627451 , 0.07843138, 0.07843138],\n",
              "        [0.        , 0.        , 0.        ],\n",
              "        [0.07058824, 0.03137255, 0.        ],\n",
              "        ...,\n",
              "        [0.48235294, 0.34509805, 0.21568628],\n",
              "        [0.46666667, 0.3254902 , 0.19607843],\n",
              "        [0.47843137, 0.34117648, 0.22352941]],\n",
              "\n",
              "       [[0.09803922, 0.09411765, 0.08235294],\n",
              "        [0.0627451 , 0.02745098, 0.        ],\n",
              "        [0.19215687, 0.10588235, 0.03137255],\n",
              "        ...,\n",
              "        [0.4627451 , 0.32941177, 0.19607843],\n",
              "        [0.47058824, 0.32941177, 0.19607843],\n",
              "        [0.42745098, 0.28627452, 0.16470589]],\n",
              "\n",
              "       ...,\n",
              "\n",
              "       [[0.8156863 , 0.6666667 , 0.3764706 ],\n",
              "        [0.7882353 , 0.6       , 0.13333334],\n",
              "        [0.7764706 , 0.6313726 , 0.10196079],\n",
              "        ...,\n",
              "        [0.627451  , 0.52156866, 0.27450982],\n",
              "        [0.21960784, 0.12156863, 0.02745098],\n",
              "        [0.20784314, 0.13333334, 0.07843138]],\n",
              "\n",
              "       [[0.7058824 , 0.54509807, 0.3764706 ],\n",
              "        [0.6784314 , 0.48235294, 0.16470589],\n",
              "        [0.7294118 , 0.5647059 , 0.11764706],\n",
              "        ...,\n",
              "        [0.72156864, 0.5803922 , 0.36862746],\n",
              "        [0.38039216, 0.24313726, 0.13333334],\n",
              "        [0.3254902 , 0.20784314, 0.13333334]],\n",
              "\n",
              "       [[0.69411767, 0.5647059 , 0.45490196],\n",
              "        [0.65882355, 0.5058824 , 0.36862746],\n",
              "        [0.7019608 , 0.5568628 , 0.34117648],\n",
              "        ...,\n",
              "        [0.84705883, 0.72156864, 0.54901963],\n",
              "        [0.5921569 , 0.4627451 , 0.32941177],\n",
              "        [0.48235294, 0.36078432, 0.28235295]]], dtype=float32)"
            ]
          },
          "metadata": {
            "tags": []
          },
          "execution_count": 6
        }
      ]
    },
    {
      "cell_type": "markdown",
      "metadata": {
        "id": "bu7tEtYvFt6S",
        "colab_type": "text"
      },
      "source": [
        "Running the code cell above, we can see that the pixel values for *x_train[0]* printed out are now strictly within the ranges of 0 and 1, they are said to have been *normalized*. \n",
        "\n",
        "This processing step makes our neural network to train faster and achieve better accuracy.\n",
        "Note: This processing is also carried out on the test set since when evaluating we want the same range of values as those used when training.\n",
        "\n",
        "\n",
        "\n",
        "# Building and Training our Convolutional Neural Network\n",
        "We finally arrive at the most productive step, to train our model. This step just involves setting up a structure or architecture we want our model to have. We would add layers to our model in these sequence:\n",
        "\n",
        "\n",
        "1.   Add Conv2D layer with zero-padding: This is a layer that would isolate the features in our images so that we can gather more information in less pixels. It actually ends up reducing the size of the pixels. The zero-padding works to produce the same output width and height as that of the input, what this means literally is that; we aren't losing any information by using zero-padding(same). The kind of padding used would either try to highlight the horizontal or vertical aspect(lines) of the image. Padding is also called a filter or kernel\n",
        "\n",
        "2.   Add MaxPolling layer with stride: This layer basically works to shrink the pixel height and weight while still retaining relevant information. The stride enables the information retention by passing to the output the *largest* number in a box. It is passed across the whole image, the size of the stride determines the quantity or perhaps quality of features that is passed to the output after MaxPooling is carried out.\n",
        "\n",
        "3.   Relu activation func: We use the relu activation in all layers except for the last layer which is a softmax. Relu (Rectified Linear Unit) is an activation that outputs the value of input X is x > 0.\n",
        "\n",
        "4.   Softmax:  Our last layer Softmax simply transforms the output of the previous layer into probability distributions. So we are able to match image classification based on the probability given by the model of each classes. And therefore, our model picks the class with the highest probability as the correct object detected.\n",
        "\n",
        "\n",
        "So now that we have gone through all the important parts of training our model, let's go on to write code for it.\n",
        "\n",
        "<b>Note:</b> The above explanations are just made briefly and are not guaranteed to make a begineers understand fully their meaning and application. I assume though that users have begineer to intermediate experience with keras and has experimented in small codes with it. \n",
        "\n",
        "To get a solid un derstanding of Tensorflow and Keras, I recommend taking the [Tensorflow In Practice Course](https://) by deeplearning.ai on Coursera Platform.\n",
        "\n"
      ]
    },
    {
      "cell_type": "code",
      "metadata": {
        "id": "YyLozCVWOBbb",
        "colab_type": "code",
        "colab": {
          "base_uri": "https://localhost:8080/",
          "height": 1000
        },
        "outputId": "7ab66798-7f04-4a9d-8e2d-6d2074c5ab88"
      },
      "source": [
        "from keras.models import Sequential\n",
        "from keras.layers import Dense, Dropout, Flatten, Conv2D, MaxPooling2D\n",
        "\n",
        "model = Sequential()\n",
        "\n",
        "model.add(Conv2D(32, (3, 3), activation='relu', padding='same', input_shape=(32,32,3)))\n",
        "model.add(Conv2D(32, (3, 3), activation='relu', padding='same'))\n",
        "model.add(MaxPooling2D(pool_size=(2, 2)))\n",
        "model.add(Dropout(0.25))\n",
        "\n",
        "model.add(Conv2D(64, (3, 3), activation='relu', padding='same'))\n",
        "model.add(Conv2D(64, (3, 3), activation='relu', padding='same'))\n",
        "model.add(MaxPooling2D(pool_size=(2, 2)))\n",
        "model.add(Dropout(0.25))\n",
        "\n",
        "model.add(Flatten())\n",
        "model.add(Dense(512, activation='relu'))\n",
        "model.add(Dropout(0.5))\n",
        "model.add(Dense(10, activation='softmax'))\n",
        "\n",
        "model.summary()\n",
        "\n",
        "model.compile(loss='categorical_crossentropy',\n",
        "              optimizer='adam',\n",
        "              metrics=['accuracy'])\n",
        "hist = model.fit(x_train, y_train_one_hot, \n",
        "           batch_size=32, epochs=20, \n",
        "           validation_split=0.2)"
      ],
      "execution_count": 7,
      "outputs": [
        {
          "output_type": "stream",
          "text": [
            "Model: \"sequential_2\"\n",
            "_________________________________________________________________\n",
            "Layer (type)                 Output Shape              Param #   \n",
            "=================================================================\n",
            "conv2d_5 (Conv2D)            (None, 32, 32, 32)        896       \n",
            "_________________________________________________________________\n",
            "conv2d_6 (Conv2D)            (None, 32, 32, 32)        9248      \n",
            "_________________________________________________________________\n",
            "max_pooling2d_3 (MaxPooling2 (None, 16, 16, 32)        0         \n",
            "_________________________________________________________________\n",
            "dropout_4 (Dropout)          (None, 16, 16, 32)        0         \n",
            "_________________________________________________________________\n",
            "conv2d_7 (Conv2D)            (None, 16, 16, 64)        18496     \n",
            "_________________________________________________________________\n",
            "conv2d_8 (Conv2D)            (None, 16, 16, 64)        36928     \n",
            "_________________________________________________________________\n",
            "max_pooling2d_4 (MaxPooling2 (None, 8, 8, 64)          0         \n",
            "_________________________________________________________________\n",
            "dropout_5 (Dropout)          (None, 8, 8, 64)          0         \n",
            "_________________________________________________________________\n",
            "flatten_2 (Flatten)          (None, 4096)              0         \n",
            "_________________________________________________________________\n",
            "dense_3 (Dense)              (None, 512)               2097664   \n",
            "_________________________________________________________________\n",
            "dropout_6 (Dropout)          (None, 512)               0         \n",
            "_________________________________________________________________\n",
            "dense_4 (Dense)              (None, 10)                5130      \n",
            "=================================================================\n",
            "Total params: 2,168,362\n",
            "Trainable params: 2,168,362\n",
            "Non-trainable params: 0\n",
            "_________________________________________________________________\n",
            "Train on 40000 samples, validate on 10000 samples\n",
            "Epoch 1/20\n",
            "40000/40000 [==============================] - 15s 364us/step - loss: 1.5383 - accuracy: 0.4391 - val_loss: 1.1842 - val_accuracy: 0.5784\n",
            "Epoch 2/20\n",
            "40000/40000 [==============================] - 8s 207us/step - loss: 1.1522 - accuracy: 0.5852 - val_loss: 0.9874 - val_accuracy: 0.6521\n",
            "Epoch 3/20\n",
            "40000/40000 [==============================] - 8s 209us/step - loss: 0.9976 - accuracy: 0.6463 - val_loss: 0.8836 - val_accuracy: 0.6843\n",
            "Epoch 4/20\n",
            "40000/40000 [==============================] - 8s 207us/step - loss: 0.9013 - accuracy: 0.6785 - val_loss: 0.8204 - val_accuracy: 0.7157\n",
            "Epoch 5/20\n",
            "40000/40000 [==============================] - 8s 206us/step - loss: 0.8191 - accuracy: 0.7097 - val_loss: 0.7778 - val_accuracy: 0.7270\n",
            "Epoch 6/20\n",
            "40000/40000 [==============================] - 8s 206us/step - loss: 0.7619 - accuracy: 0.7304 - val_loss: 0.7702 - val_accuracy: 0.7287\n",
            "Epoch 7/20\n",
            "40000/40000 [==============================] - 8s 207us/step - loss: 0.7173 - accuracy: 0.7478 - val_loss: 0.7666 - val_accuracy: 0.7328\n",
            "Epoch 8/20\n",
            "40000/40000 [==============================] - 8s 207us/step - loss: 0.6686 - accuracy: 0.7639 - val_loss: 0.7087 - val_accuracy: 0.7578\n",
            "Epoch 9/20\n",
            "40000/40000 [==============================] - 8s 207us/step - loss: 0.6281 - accuracy: 0.7810 - val_loss: 0.6949 - val_accuracy: 0.7665\n",
            "Epoch 10/20\n",
            "40000/40000 [==============================] - 8s 206us/step - loss: 0.6037 - accuracy: 0.7892 - val_loss: 0.6944 - val_accuracy: 0.7631\n",
            "Epoch 11/20\n",
            "40000/40000 [==============================] - 8s 207us/step - loss: 0.5680 - accuracy: 0.8003 - val_loss: 0.7143 - val_accuracy: 0.7601\n",
            "Epoch 12/20\n",
            "40000/40000 [==============================] - 8s 207us/step - loss: 0.5485 - accuracy: 0.8069 - val_loss: 0.6926 - val_accuracy: 0.7659\n",
            "Epoch 13/20\n",
            "40000/40000 [==============================] - 8s 208us/step - loss: 0.5226 - accuracy: 0.8154 - val_loss: 0.6814 - val_accuracy: 0.7680\n",
            "Epoch 14/20\n",
            "40000/40000 [==============================] - 8s 207us/step - loss: 0.5057 - accuracy: 0.8209 - val_loss: 0.7007 - val_accuracy: 0.7712\n",
            "Epoch 15/20\n",
            "40000/40000 [==============================] - 8s 207us/step - loss: 0.4856 - accuracy: 0.8293 - val_loss: 0.7333 - val_accuracy: 0.7600\n",
            "Epoch 16/20\n",
            "40000/40000 [==============================] - 8s 206us/step - loss: 0.4685 - accuracy: 0.8344 - val_loss: 0.7060 - val_accuracy: 0.7693\n",
            "Epoch 17/20\n",
            "40000/40000 [==============================] - 8s 210us/step - loss: 0.4515 - accuracy: 0.8406 - val_loss: 0.7359 - val_accuracy: 0.7652\n",
            "Epoch 18/20\n",
            "40000/40000 [==============================] - 9s 219us/step - loss: 0.4409 - accuracy: 0.8470 - val_loss: 0.7139 - val_accuracy: 0.7767\n",
            "Epoch 19/20\n",
            "40000/40000 [==============================] - 8s 206us/step - loss: 0.4270 - accuracy: 0.8508 - val_loss: 0.6975 - val_accuracy: 0.7772\n",
            "Epoch 20/20\n",
            "40000/40000 [==============================] - 8s 205us/step - loss: 0.4212 - accuracy: 0.8522 - val_loss: 0.7255 - val_accuracy: 0.7774\n"
          ],
          "name": "stdout"
        }
      ]
    },
    {
      "cell_type": "code",
      "metadata": {
        "id": "s8QXXFbTRHOO",
        "colab_type": "code",
        "colab": {
          "base_uri": "https://localhost:8080/",
          "height": 295
        },
        "outputId": "a6b796e3-6181-414c-f400-0cda14c56473"
      },
      "source": [
        "plt.plot(hist.history['loss'])\n",
        "plt.plot(hist.history['val_loss'])\n",
        "plt.title('Model loss')\n",
        "plt.ylabel('Loss')\n",
        "plt.xlabel('Epoch')\n",
        "plt.legend(['Train', 'Val'], loc='upper right')\n",
        "plt.show()"
      ],
      "execution_count": 8,
      "outputs": [
        {
          "output_type": "display_data",
          "data": {
            "image/png": "[encoded data removed]",
            "text/plain": [
              "<Figure size 432x288 with 1 Axes>"
            ]
          },
          "metadata": {
            "tags": [],
            "needs_background": "light"
          }
        }
      ]
    },
    {
      "cell_type": "code",
      "metadata": {
        "id": "U4EkEdsWRYF6",
        "colab_type": "code",
        "colab": {
          "base_uri": "https://localhost:8080/",
          "height": 295
        },
        "outputId": "7b59d1a1-8264-4e49-c948-ddaed6dbc6dd"
      },
      "source": [
        "plt.plot(hist.history['accuracy'])\n",
        "plt.plot(hist.history['val_accuracy'])\n",
        "plt.title('Model accuracy')\n",
        "plt.ylabel('Accuracy')\n",
        "plt.xlabel('Epoch')\n",
        "plt.legend(['Train', 'Val'], loc='lower right')\n",
        "plt.show()"
      ],
      "execution_count": 10,
      "outputs": [
        {
          "output_type": "display_data",
          "data": {
            "image/png": "[encoded data removed]",
            "text/plain": [
              "<Figure size 432x288 with 1 Axes>"
            ]
          },
          "metadata": {
            "tags": [],
            "needs_background": "light"
          }
        }
      ]
    },
    {
      "cell_type": "code",
      "metadata": {
        "id": "yEraxYIVRpIf",
        "colab_type": "code",
        "colab": {
          "base_uri": "https://localhost:8080/",
          "height": 34
        },
        "outputId": "d66e7af7-a3bb-45bf-f22b-23af5806131f"
      },
      "source": [
        "model.evaluate(x_test, y_test_one_hot)[1]\n",
        "\n",
        "\n",
        "\n",
        "model.save('chel_cifar10_model_OR.h5')"
      ],
      "execution_count": 13,
      "outputs": [
        {
          "output_type": "stream",
          "text": [
            "10000/10000 [==============================] - 1s 88us/step\n"
          ],
          "name": "stdout"
        }
      ]
    }
  ]
}